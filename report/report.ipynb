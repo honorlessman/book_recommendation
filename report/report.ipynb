{
 "cells": [
  {
   "cell_type": "markdown",
   "metadata": {
    "collapsed": true
   },
   "source": [
    "<center><h1>1-a</h1></center>\n",
    "\n",
    "![1nn.png](attachment:1nn.png)\n",
    "<img href=\"1nn.png\"></img>\n",
    "\n",
    "<center>\n",
    "$ 1nn(s_1) $ is <span style=\"color:red\">red</span> circle, <br>\n",
    "$ 1nn(s_2) $ is <span style=\"color:blue\">blue</span> circle, <br>\n",
    "$ 1nn(s_1 \\cup s_2) $ is also <span style=\"color:blue\">blue</span> circle <br>\n",
    "</center>"
   ]
  },
  {
   "cell_type": "markdown",
   "metadata": {},
   "source": [
    "![3nn.png](attachment:3nn.png)"
   ]
  },
  {
   "cell_type": "code",
   "execution_count": null,
   "metadata": {},
   "outputs": [],
   "source": []
  }
 ],
 "metadata": {
  "kernelspec": {
   "display_name": "Python 3",
   "language": "python",
   "name": "python3"
  },
  "language_info": {
   "codemirror_mode": {
    "name": "ipython",
    "version": 3
   },
   "file_extension": ".py",
   "mimetype": "text/x-python",
   "name": "python",
   "nbconvert_exporter": "python",
   "pygments_lexer": "ipython3",
   "version": "3.7.0"
  }
 },
 "nbformat": 4,
 "nbformat_minor": 1
}
